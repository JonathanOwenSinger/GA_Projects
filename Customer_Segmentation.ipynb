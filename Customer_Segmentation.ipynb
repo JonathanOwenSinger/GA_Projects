{
 "cells": [
  {
   "cell_type": "markdown",
   "metadata": {},
   "source": [
    "<font size=\"3|\">Project 4</font>"
   ]
  },
  {
   "cell_type": "code",
   "execution_count": 186,
   "metadata": {},
   "outputs": [],
   "source": [
    "#Import all the packages I need\n",
    "import pandas as pd\n",
    "import numpy as np\n",
    "from scipy import stats\n",
    "from datetime import datetime, timedelta"
   ]
  },
  {
   "cell_type": "code",
   "execution_count": 187,
   "metadata": {},
   "outputs": [],
   "source": [
    "#Increase the displays so I can view all the columns I want.  I did rows also for the heck of it\n",
    "pd.set_option('display.max_columns', 500)\n",
    "pd.set_option('display.max_rows', 500)"
   ]
  },
  {
   "cell_type": "code",
   "execution_count": 188,
   "metadata": {},
   "outputs": [
    {
     "data": {
      "text/html": [
       "<div>\n",
       "<style scoped>\n",
       "    .dataframe tbody tr th:only-of-type {\n",
       "        vertical-align: middle;\n",
       "    }\n",
       "\n",
       "    .dataframe tbody tr th {\n",
       "        vertical-align: top;\n",
       "    }\n",
       "\n",
       "    .dataframe thead th {\n",
       "        text-align: right;\n",
       "    }\n",
       "</style>\n",
       "<table border=\"1\" class=\"dataframe\">\n",
       "  <thead>\n",
       "    <tr style=\"text-align: right;\">\n",
       "      <th></th>\n",
       "      <th>[Customer_ID]</th>\n",
       "      <th>[Registration_Datetime_Local]</th>\n",
       "      <th>[Geography_Name]</th>\n",
       "      <th>[Location_Name]</th>\n",
       "      <th>[Rental_Revenue_Last_30_Days]</th>\n",
       "      <th>[Rental_Revenue_Last_365_Days]</th>\n",
       "      <th>[Rental_Revenue_Last_91_Days]</th>\n",
       "      <th>[Rentals_Last_30_Days]</th>\n",
       "      <th>[Rentals_Last_365_Days]</th>\n",
       "      <th>[Rentals_Last_91_Days]</th>\n",
       "      <th>[Rentals_Total]</th>\n",
       "    </tr>\n",
       "  </thead>\n",
       "  <tbody>\n",
       "    <tr>\n",
       "      <th>0</th>\n",
       "      <td>1520068</td>\n",
       "      <td>2014-11-23</td>\n",
       "      <td>Calgary</td>\n",
       "      <td>Calgary</td>\n",
       "      <td>0.0</td>\n",
       "      <td>0.0</td>\n",
       "      <td>0.0</td>\n",
       "      <td>5</td>\n",
       "      <td>43</td>\n",
       "      <td>13</td>\n",
       "      <td>0</td>\n",
       "    </tr>\n",
       "    <tr>\n",
       "      <th>1</th>\n",
       "      <td>1852168</td>\n",
       "      <td>2015-08-20</td>\n",
       "      <td>Seattle</td>\n",
       "      <td>Seattle</td>\n",
       "      <td>0.0</td>\n",
       "      <td>0.0</td>\n",
       "      <td>0.0</td>\n",
       "      <td>0</td>\n",
       "      <td>4</td>\n",
       "      <td>4</td>\n",
       "      <td>0</td>\n",
       "    </tr>\n",
       "    <tr>\n",
       "      <th>2</th>\n",
       "      <td>2321264</td>\n",
       "      <td>2016-05-19</td>\n",
       "      <td>DC Region</td>\n",
       "      <td>Washington DC</td>\n",
       "      <td>0.0</td>\n",
       "      <td>0.0</td>\n",
       "      <td>0.0</td>\n",
       "      <td>179</td>\n",
       "      <td>1122</td>\n",
       "      <td>542</td>\n",
       "      <td>0</td>\n",
       "    </tr>\n",
       "    <tr>\n",
       "      <th>3</th>\n",
       "      <td>3034218</td>\n",
       "      <td>2017-06-15</td>\n",
       "      <td>New York City</td>\n",
       "      <td>New York City</td>\n",
       "      <td>0.0</td>\n",
       "      <td>0.0</td>\n",
       "      <td>0.0</td>\n",
       "      <td>6</td>\n",
       "      <td>50</td>\n",
       "      <td>6</td>\n",
       "      <td>0</td>\n",
       "    </tr>\n",
       "    <tr>\n",
       "      <th>4</th>\n",
       "      <td>3037791</td>\n",
       "      <td>2017-06-16</td>\n",
       "      <td>Denver</td>\n",
       "      <td>Denver</td>\n",
       "      <td>0.0</td>\n",
       "      <td>0.0</td>\n",
       "      <td>0.0</td>\n",
       "      <td>27</td>\n",
       "      <td>458</td>\n",
       "      <td>94</td>\n",
       "      <td>0</td>\n",
       "    </tr>\n",
       "  </tbody>\n",
       "</table>\n",
       "</div>"
      ],
      "text/plain": [
       "   [Customer_ID] [Registration_Datetime_Local] [Geography_Name]  \\\n",
       "0        1520068                    2014-11-23          Calgary   \n",
       "1        1852168                    2015-08-20          Seattle   \n",
       "2        2321264                    2016-05-19        DC Region   \n",
       "3        3034218                    2017-06-15    New York City   \n",
       "4        3037791                    2017-06-16           Denver   \n",
       "\n",
       "  [Location_Name]  [Rental_Revenue_Last_30_Days]  \\\n",
       "0         Calgary                            0.0   \n",
       "1         Seattle                            0.0   \n",
       "2   Washington DC                            0.0   \n",
       "3   New York City                            0.0   \n",
       "4          Denver                            0.0   \n",
       "\n",
       "   [Rental_Revenue_Last_365_Days]  [Rental_Revenue_Last_91_Days]  \\\n",
       "0                             0.0                            0.0   \n",
       "1                             0.0                            0.0   \n",
       "2                             0.0                            0.0   \n",
       "3                             0.0                            0.0   \n",
       "4                             0.0                            0.0   \n",
       "\n",
       "   [Rentals_Last_30_Days]  [Rentals_Last_365_Days]  [Rentals_Last_91_Days]  \\\n",
       "0                       5                       43                      13   \n",
       "1                       0                        4                       4   \n",
       "2                     179                     1122                     542   \n",
       "3                       6                       50                       6   \n",
       "4                      27                      458                      94   \n",
       "\n",
       "   [Rentals_Total]  \n",
       "0                0  \n",
       "1                0  \n",
       "2                0  \n",
       "3                0  \n",
       "4                0  "
      ]
     },
     "execution_count": 188,
     "metadata": {},
     "output_type": "execute_result"
    }
   ],
   "source": [
    "#Imported the data\n",
    "cust = pd.read_excel('Customer_Segmentation.xlsx',sheetname= 'Sheet1')\n",
    "#cust = pd.read_excel('Customer_Segmentation.xlsx',sheetname= 'sheet_name')\n",
    "\n",
    "cust.head()"
   ]
  },
  {
   "cell_type": "code",
   "execution_count": 189,
   "metadata": {
    "scrolled": false
   },
   "outputs": [],
   "source": [
    "#I picked only the columns I am interested in but wanted to keep the original dataframe in case i wanted to go back to it\n",
    "cust2 = cust[['[Customer_ID]',\n",
    "              '[Location_Name]',\n",
    "              '[Geography_Name]', \n",
    "              '[Registration_Datetime_Local]',\n",
    "              '[Rentals_Total]',\n",
    "              '[Rentals_Last_30_Days]',\n",
    "              '[Rentals_Last_91_Days]',\n",
    "              '[Rentals_Last_365_Days]',\n",
    "              '[Rental_Revenue_Last_30_Days]',\n",
    "              '[Rental_Revenue_Last_91_Days]',\n",
    "              '[Rental_Revenue_Last_365_Days]']]"
   ]
  },
  {
   "cell_type": "code",
   "execution_count": 190,
   "metadata": {},
   "outputs": [],
   "source": [
    "cust2 = cust2[cust2['[Rentals_Total]'] != 0] \n",
    "cust2 = cust2[cust2['[Rental_Revenue_Last_365_Days]'] > 0] #REMOVE THIS PART OF THE CODE ONCE YOU REMOVE SERVICE ACCOUNTS\n",
    "cust2.drop(columns = ['[Rentals_Total]','[Location_Name]'],inplace=True)"
   ]
  },
  {
   "cell_type": "code",
   "execution_count": 191,
   "metadata": {},
   "outputs": [],
   "source": [
    "cust2.rename(columns = {\n",
    "    '[Customer_ID]': 'Customer_ID',\n",
    "    '[Geography_Name]': 'Location',\n",
    "    '[Registration_Datetime_Local]': 'Registration_Datetime_Local',\n",
    "    '[Rentals_Last_30_Days]': 'Rentals_Last_30_Days',\n",
    "    '[Rentals_Last_91_Days]': 'Rentals_Last_91_Days',\n",
    "    '[Rentals_Last_365_Days]' : 'Rentals_Last_365_Days',\n",
    "    '[Rental_Revenue_Last_30_Days]' : 'Rental_Revenue_Last_30_Days',\n",
    "    '[Rental_Revenue_Last_91_Days]' : 'Rental_Revenue_Last_91_Days',\n",
    "    '[Rental_Revenue_Last_365_Days]' : 'Rental_Revenue_Last_365_Days'},inplace=True)"
   ]
  },
  {
   "cell_type": "code",
   "execution_count": 192,
   "metadata": {},
   "outputs": [],
   "source": [
    "cust2['RENTALS_LAST_30_DAYS'] = cust2['Rentals_Last_30_Days']\n",
    "cust2['RENTALS_LAST_31_TO_91_DAYS'] = cust2['Rentals_Last_91_Days'] - cust2['Rentals_Last_30_Days']\n",
    "cust2['RENTALS_LAST_92_TO_365_DAYS'] = cust2['Rentals_Last_365_Days'] - cust2['Rentals_Last_91_Days']\n",
    "\n",
    "cust2['REVENUE_LAST_30_DAYS'] = cust2['Rental_Revenue_Last_30_Days']\n",
    "cust2['REVENUE_LAST_31_TO_91_DAYS'] = cust2['Rental_Revenue_Last_91_Days'] - cust2['Rental_Revenue_Last_30_Days']\n",
    "cust2['REVENUE_LAST_92_TO_365_DAYS'] = cust2['Rental_Revenue_Last_365_Days'] - cust2['Rental_Revenue_Last_91_Days']"
   ]
  },
  {
   "cell_type": "code",
   "execution_count": 193,
   "metadata": {},
   "outputs": [],
   "source": [
    "cust2.drop(columns = ['Rentals_Last_30_Days','Rentals_Last_91_Days','Rentals_Last_365_Days'],inplace=True)\n",
    "cust2.drop(columns = ['Rental_Revenue_Last_30_Days','Rental_Revenue_Last_91_Days','Rental_Revenue_Last_365_Days'],inplace=True)"
   ]
  },
  {
   "cell_type": "code",
   "execution_count": 194,
   "metadata": {},
   "outputs": [],
   "source": [
    "cust2['z_RENTALS_LAST_30_DAYS'] = stats.zscore(cust2['RENTALS_LAST_30_DAYS'])\n",
    "cust2['z_RENTALS_LAST_31_TO_91_DAYS'] = stats.zscore(cust2['RENTALS_LAST_31_TO_91_DAYS'])\n",
    "cust2['z_RENTALS_LAST_92_TO_365_DAYS'] = stats.zscore(cust2['RENTALS_LAST_92_TO_365_DAYS'])\n",
    "cust2['z_REVENUE_LAST_30_DAYS'] = stats.zscore(cust2['REVENUE_LAST_30_DAYS'])\n",
    "cust2['z_REVENUE_LAST_31_TO_91_DAYS'] = stats.zscore(cust2['REVENUE_LAST_31_TO_91_DAYS'])\n",
    "cust2['z_REVENUE_LAST_92_TO_365_DAYS'] = stats.zscore(cust2['REVENUE_LAST_92_TO_365_DAYS'])"
   ]
  },
  {
   "cell_type": "code",
   "execution_count": 195,
   "metadata": {},
   "outputs": [],
   "source": [
    "#cust2['sum_zscores'] = cust2.iloc[:,-7:-1].sum(axis=1)\n",
    "cust2['sum_zscores'] = cust2.z_RENTALS_LAST_30_DAYS + \\\n",
    "cust2.z_RENTALS_LAST_31_TO_91_DAYS + \\\n",
    "cust2.z_RENTALS_LAST_92_TO_365_DAYS + \\\n",
    "cust2.z_REVENUE_LAST_30_DAYS + \\\n",
    "cust2.z_REVENUE_LAST_31_TO_91_DAYS + \\\n",
    "cust2.z_REVENUE_LAST_92_TO_365_DAYS       "
   ]
  },
  {
   "cell_type": "code",
   "execution_count": 196,
   "metadata": {},
   "outputs": [],
   "source": [
    "cust2.drop(columns = ['z_RENTALS_LAST_30_DAYS','z_RENTALS_LAST_31_TO_91_DAYS','z_RENTALS_LAST_92_TO_365_DAYS'],inplace=True)\n",
    "cust2.drop(columns = ['z_REVENUE_LAST_30_DAYS','z_REVENUE_LAST_31_TO_91_DAYS','z_REVENUE_LAST_92_TO_365_DAYS'],inplace=True)"
   ]
  },
  {
   "cell_type": "code",
   "execution_count": 197,
   "metadata": {},
   "outputs": [],
   "source": [
    "cust2.sort_values(by=['sum_zscores'],ascending = False, inplace=True)\n",
    "cust2['Member_Ranking'] = cust2['sum_zscores'].rank(ascending = False)"
   ]
  },
  {
   "cell_type": "code",
   "execution_count": 198,
   "metadata": {},
   "outputs": [],
   "source": [
    "def group_members(row):\n",
    "    if row.Member_Ranking <= 5000:\n",
    "        return ('A+')\n",
    "    elif row.Member_Ranking <= 25000:\n",
    "        return ('A')\n",
    "    elif row.Member_Ranking <= 50000:\n",
    "        return ('B')\n",
    "    else:\n",
    "        return ('C')\n",
    "\n",
    "cust2['Member_Segmentation'] = cust2.apply(lambda row: group_members(row),axis = 1)"
   ]
  },
  {
   "cell_type": "code",
   "execution_count": 199,
   "metadata": {},
   "outputs": [],
   "source": [
    "cust2['Registration_Datetime_Local'] = pd.to_datetime(cust2['Registration_Datetime_Local'])"
   ]
  },
  {
   "cell_type": "code",
   "execution_count": 200,
   "metadata": {},
   "outputs": [],
   "source": [
    "cust2['Today'] = datetime.today()\n",
    "cust2['Today'] = pd.to_datetime(cust2['Today'])"
   ]
  },
  {
   "cell_type": "code",
   "execution_count": 201,
   "metadata": {},
   "outputs": [],
   "source": [
    "cust2['Days_Since_Registration'] = (cust2['Today'] - cust2['Registration_Datetime_Local']).dt.days"
   ]
  },
  {
   "cell_type": "code",
   "execution_count": 202,
   "metadata": {},
   "outputs": [],
   "source": [
    "def member_reg_date(row):\n",
    "    if row.Days_Since_Registration <= 60:\n",
    "        return ('Yes')\n",
    "    else:\n",
    "        return ('No')\n",
    "\n",
    "cust2['New_Member_Registered_Past_60_Days'] = cust2.apply(lambda row: member_reg_date(row),axis = 1)  "
   ]
  },
  {
   "cell_type": "code",
   "execution_count": 203,
   "metadata": {},
   "outputs": [],
   "source": [
    "cust2 = cust2[['Customer_ID','Location','Registration_Datetime_Local','New_Member_Registered_Past_60_Days','RENTALS_LAST_30_DAYS','RENTALS_LAST_31_TO_91_DAYS','RENTALS_LAST_92_TO_365_DAYS','REVENUE_LAST_30_DAYS','REVENUE_LAST_31_TO_91_DAYS','REVENUE_LAST_92_TO_365_DAYS','Member_Ranking','Member_Segmentation']]"
   ]
  },
  {
   "cell_type": "code",
   "execution_count": 204,
   "metadata": {},
   "outputs": [],
   "source": [
    "cust2.to_excel(\"Customer_Segmentation_Output.xlsx\",sheet_name='Sheet1',index= False)"
   ]
  }
 ],
 "metadata": {
  "kernelspec": {
   "display_name": "Python 3",
   "language": "python",
   "name": "python3"
  },
  "language_info": {
   "codemirror_mode": {
    "name": "ipython",
    "version": 3
   },
   "file_extension": ".py",
   "mimetype": "text/x-python",
   "name": "python",
   "nbconvert_exporter": "python",
   "pygments_lexer": "ipython3",
   "version": "3.6.8"
  }
 },
 "nbformat": 4,
 "nbformat_minor": 2
}
