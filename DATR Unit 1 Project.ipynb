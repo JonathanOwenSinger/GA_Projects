{
 "cells": [
  {
   "cell_type": "code",
   "execution_count": 6,
   "metadata": {},
   "outputs": [
    {
     "name": "stdout",
     "output_type": "stream",
     "text": [
      "906609\n"
     ]
    }
   ],
   "source": [
    "#Challenge 1:  largest Palindrome\n",
    "\n",
    "numbers = [] #blank list\n",
    "for a in range(100,1000): # all possible 3 digit numbers from 100 - 999\n",
    "    for b in range(100,1000): #all possible 3 digit numbers from 100 - 999\n",
    "        numbers.append(a*b) # here I multiply by each number possibly for a and b and put the results in a list\n",
    "numbers = set(numbers) # here I remove duplicates within the list\n",
    "num_list = [] #here i start a new blank list\n",
    "for i in numbers: \n",
    "    i = str(i) #i convert each item in the list to a string\n",
    "    reverse = i[::-1] #i reverse the numbers\n",
    "    if i == reverse: #if the original string equals the reversed string, then the string is a palindrome\n",
    "        i = int(i) #if palindrome, turn the string into an integer\n",
    "        num_list.append(i) #add the integer to the new blank list\n",
    "highest = max(num_list) #identify the highest integer in the list\n",
    "print(highest) #print the highest integer, which is 99999"
   ]
  },
  {
   "cell_type": "code",
   "execution_count": 89,
   "metadata": {},
   "outputs": [
    {
     "name": "stdout",
     "output_type": "stream",
     "text": [
      "277050\n"
     ]
    }
   ],
   "source": [
    "#Challenge 2:  Summation of Primes\n",
    "\n",
    "factors = []  #built list to find factors.  Any number not a factor is a prime number\n",
    "for i in reversed(range(2,2001)): # i reversed the range to start with 2000 and see if any number from 1999 to 2 divides into 2000 without a remainder\n",
    "    for x in reversed(range(2,i-1)): \n",
    "        if i % x == 0:            # if any number less than the number, down to 2, divides into the number without a remainder, the number is NOT a prime number\n",
    "            factors.append(i)     # if number is not a prime number, add to the factor list\n",
    "factors = set(factors)            # remove duplicates\n",
    "\n",
    "total = 0\n",
    "for x in range (2,2001)           #check and see what numbers from 2 to 2000 are NOT factors\n",
    "    if x not in factors:          #if number is NOT a factor, it is a prime number\n",
    "        total = total + x         #sum up all prime numbers and print total\n",
    "print(total)\n",
    "            \n",
    "\n",
    "\n",
    "\n",
    "            "
   ]
  },
  {
   "cell_type": "code",
   "execution_count": 108,
   "metadata": {},
   "outputs": [
    {
     "name": "stdout",
     "output_type": "stream",
     "text": [
      "234168\n"
     ]
    }
   ],
   "source": [
    "#Challenge 3: Multiples of 3 and 5\n",
    "\n",
    "total = 0 #created variable to get the total later\n",
    "for i in range(1,1001): #for each number between 1 and 1000\n",
    "    if i % 3 == 0 or i % 5 == 0: #if the number is divisible by 3 or 5\n",
    "        total += i #add it to the total and iterate to the next number in the range\n",
    "print(total) #print results\n",
    "    "
   ]
  },
  {
   "cell_type": "code",
   "execution_count": 11,
   "metadata": {},
   "outputs": [
    {
     "ename": "IndexError",
     "evalue": "string index out of range",
     "output_type": "error",
     "traceback": [
      "\u001b[1;31m---------------------------------------------------------------------------\u001b[0m",
      "\u001b[1;31mIndexError\u001b[0m                                Traceback (most recent call last)",
      "\u001b[1;32m<ipython-input-11-b0b5064fbab4>\u001b[0m in \u001b[0;36m<module>\u001b[1;34m\u001b[0m\n\u001b[0;32m     14\u001b[0m \u001b[1;33m\u001b[0m\u001b[0m\n\u001b[0;32m     15\u001b[0m \u001b[1;33m\u001b[0m\u001b[0m\n\u001b[1;32m---> 16\u001b[1;33m \u001b[0mcompressor\u001b[0m\u001b[1;33m(\u001b[0m\u001b[1;34m'aaafffaaa'\u001b[0m\u001b[1;33m)\u001b[0m\u001b[1;33m\u001b[0m\u001b[1;33m\u001b[0m\u001b[0m\n\u001b[0m",
      "\u001b[1;32m<ipython-input-11-b0b5064fbab4>\u001b[0m in \u001b[0;36mcompressor\u001b[1;34m(string)\u001b[0m\n\u001b[0;32m      4\u001b[0m     \u001b[0mn\u001b[0m \u001b[1;33m=\u001b[0m \u001b[1;36m0\u001b[0m\u001b[1;33m\u001b[0m\u001b[1;33m\u001b[0m\u001b[0m\n\u001b[0;32m      5\u001b[0m     \u001b[1;32mwhile\u001b[0m \u001b[0mn\u001b[0m \u001b[1;33m<\u001b[0m \u001b[0mlen\u001b[0m\u001b[1;33m(\u001b[0m\u001b[0mstring\u001b[0m\u001b[1;33m)\u001b[0m\u001b[1;33m:\u001b[0m\u001b[1;33m\u001b[0m\u001b[1;33m\u001b[0m\u001b[0m\n\u001b[1;32m----> 6\u001b[1;33m         \u001b[1;32mif\u001b[0m \u001b[0mstring\u001b[0m\u001b[1;33m[\u001b[0m\u001b[0mn\u001b[0m\u001b[1;33m]\u001b[0m \u001b[1;33m==\u001b[0m \u001b[0mstring\u001b[0m\u001b[1;33m[\u001b[0m\u001b[0mn\u001b[0m\u001b[1;33m+\u001b[0m\u001b[1;36m1\u001b[0m\u001b[1;33m]\u001b[0m\u001b[1;33m:\u001b[0m\u001b[1;33m\u001b[0m\u001b[1;33m\u001b[0m\u001b[0m\n\u001b[0m\u001b[0;32m      7\u001b[0m             \u001b[0mn\u001b[0m \u001b[1;33m+=\u001b[0m \u001b[1;36m1\u001b[0m\u001b[1;33m\u001b[0m\u001b[1;33m\u001b[0m\u001b[0m\n\u001b[0;32m      8\u001b[0m         \u001b[1;32melse\u001b[0m\u001b[1;33m:\u001b[0m\u001b[1;33m\u001b[0m\u001b[1;33m\u001b[0m\u001b[0m\n",
      "\u001b[1;31mIndexError\u001b[0m: string index out of range"
     ]
    }
   ],
   "source": [
    "#Challenge #4 incorrect\n",
    "def compressor(string):\n",
    "    compressed = []\n",
    "    string = str(string)\n",
    "    n = 0\n",
    "    while n < len(string):\n",
    "        if string[n] == string[n+1]:\n",
    "            n += 1\n",
    "        else:\n",
    "            compressed.append(string[n])\n",
    "            compressed.append(n)\n",
    "            n += 1\n",
    "            \n",
    "    print(n)\n",
    "\n",
    "\n",
    "compressor('aaafffaaa')"
   ]
  },
  {
   "cell_type": "code",
   "execution_count": 20,
   "metadata": {},
   "outputs": [
    {
     "ename": "IndexError",
     "evalue": "string index out of range",
     "output_type": "error",
     "traceback": [
      "\u001b[1;31m---------------------------------------------------------------------------\u001b[0m",
      "\u001b[1;31mIndexError\u001b[0m                                Traceback (most recent call last)",
      "\u001b[1;32m<ipython-input-20-d382daa1b1ea>\u001b[0m in \u001b[0;36m<module>\u001b[1;34m\u001b[0m\n\u001b[0;32m     13\u001b[0m \u001b[1;33m\u001b[0m\u001b[0m\n\u001b[0;32m     14\u001b[0m \u001b[1;33m\u001b[0m\u001b[0m\n\u001b[1;32m---> 15\u001b[1;33m \u001b[0mcompressor\u001b[0m\u001b[1;33m(\u001b[0m\u001b[1;34m'aaabcccd'\u001b[0m\u001b[1;33m)\u001b[0m\u001b[1;33m\u001b[0m\u001b[1;33m\u001b[0m\u001b[0m\n\u001b[0m\u001b[0;32m     16\u001b[0m \u001b[1;33m\u001b[0m\u001b[0m\n\u001b[0;32m     17\u001b[0m \u001b[1;33m\u001b[0m\u001b[0m\n",
      "\u001b[1;32m<ipython-input-20-d382daa1b1ea>\u001b[0m in \u001b[0;36mcompressor\u001b[1;34m(string)\u001b[0m\n\u001b[0;32m      4\u001b[0m     \u001b[0mn\u001b[0m \u001b[1;33m=\u001b[0m \u001b[1;36m1\u001b[0m\u001b[1;33m\u001b[0m\u001b[1;33m\u001b[0m\u001b[0m\n\u001b[0;32m      5\u001b[0m     \u001b[1;32mfor\u001b[0m \u001b[0mi\u001b[0m \u001b[1;32min\u001b[0m \u001b[0mstring\u001b[0m\u001b[1;33m:\u001b[0m\u001b[1;33m\u001b[0m\u001b[1;33m\u001b[0m\u001b[0m\n\u001b[1;32m----> 6\u001b[1;33m         \u001b[1;32mif\u001b[0m \u001b[0mi\u001b[0m \u001b[1;33m==\u001b[0m \u001b[0mstring\u001b[0m\u001b[1;33m[\u001b[0m\u001b[0mn\u001b[0m\u001b[1;33m]\u001b[0m\u001b[1;33m:\u001b[0m\u001b[1;33m\u001b[0m\u001b[1;33m\u001b[0m\u001b[0m\n\u001b[0m\u001b[0;32m      7\u001b[0m             \u001b[0mn\u001b[0m \u001b[1;33m=\u001b[0m \u001b[0mn\u001b[0m \u001b[1;33m+\u001b[0m \u001b[1;36m1\u001b[0m\u001b[1;33m\u001b[0m\u001b[1;33m\u001b[0m\u001b[0m\n\u001b[0;32m      8\u001b[0m         \u001b[1;32melse\u001b[0m\u001b[1;33m:\u001b[0m\u001b[1;33m\u001b[0m\u001b[1;33m\u001b[0m\u001b[0m\n",
      "\u001b[1;31mIndexError\u001b[0m: string index out of range"
     ]
    }
   ],
   "source": [
    "#Challenge 4 incorrect\n",
    "def compressor(string):\n",
    "    compressed = ''\n",
    "    string = str(string)\n",
    "    n = 1\n",
    "    for i in string:\n",
    "        if i == string[n]:\n",
    "            n = n + 1\n",
    "        else:\n",
    "            compressed.append(i)\n",
    "            compressed.append(n)\n",
    "            n= n + 1\n",
    "    print(compressed)\n",
    "            \n",
    "            \n",
    "compressor('aaabcccd')                \n",
    "\n",
    "                        \n",
    "\n",
    "            \n",
    "        \n",
    "\n",
    "\n"
   ]
  },
  {
   "cell_type": "code",
   "execution_count": null,
   "metadata": {},
   "outputs": [],
   "source": [
    "#Challenge #4 meeting with Jody\n",
    "\n",
    "#get this output\n",
    "a2b2\n",
    "\n",
    "aaaabccsd\n",
    "\n",
    "def compressor(string):\n",
    "    #for loop have a zero counter\n",
    "    count = 0\n",
    "    #store empty string \n",
    "    compressed_word = ''\n",
    "    count_letter = ''\n",
    "    #does letter match the letter before it?  \n",
    "    for i in string:\n",
    "        if i == count_letter:\n",
    "            count += 1\n",
    "        else:\n",
    "            #count redundancies with single letters\n",
    "            \n",
    "            \n",
    "            \n",
    "            #return smaller len() for compressed versus original string\n",
    "\n",
    "            \n",
    "            \n",
    "    \n",
    "    "
   ]
  },
  {
   "cell_type": "code",
   "execution_count": 1,
   "metadata": {},
   "outputs": [
    {
     "ename": "IndentationError",
     "evalue": "expected an indented block (<ipython-input-1-c0e4d035b3ac>, line 4)",
     "output_type": "error",
     "traceback": [
      "\u001b[1;36m  File \u001b[1;32m\"<ipython-input-1-c0e4d035b3ac>\"\u001b[1;36m, line \u001b[1;32m4\u001b[0m\n\u001b[1;33m    input_letter = ''\u001b[0m\n\u001b[1;37m               ^\u001b[0m\n\u001b[1;31mIndentationError\u001b[0m\u001b[1;31m:\u001b[0m expected an indented block\n"
     ]
    }
   ],
   "source": [
    "#Challenge #4 at class\n",
    "\n",
    "def compressor(string):\n",
    "input_letter = ''\n",
    "match_letter_word = ''\n",
    "count = 0\n",
    "\n",
    "#store variables\n",
    "#begin count\n",
    "#return xyz\n",
    "\n",
    "\n",
    "\n"
   ]
  },
  {
   "cell_type": "code",
   "execution_count": null,
   "metadata": {},
   "outputs": [],
   "source": [
    "#FizzBizz Challenge\n",
    "\n"
   ]
  }
 ],
 "metadata": {
  "kernelspec": {
   "display_name": "Python 3",
   "language": "python",
   "name": "python3"
  },
  "language_info": {
   "codemirror_mode": {
    "name": "ipython",
    "version": 3
   },
   "file_extension": ".py",
   "mimetype": "text/x-python",
   "name": "python",
   "nbconvert_exporter": "python",
   "pygments_lexer": "ipython3",
   "version": "3.6.8"
  }
 },
 "nbformat": 4,
 "nbformat_minor": 2
}
